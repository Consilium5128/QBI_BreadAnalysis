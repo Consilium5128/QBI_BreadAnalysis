{
 "cells": [
  {
   "cell_type": "code",
   "execution_count": null,
   "id": "2b76ba56-2e28-4fc7-b295-f83bbb7be97d",
   "metadata": {},
   "outputs": [],
   "source": [
    "from scripts.readers import read_images, read_image, save_TIFF\n",
    "\n",
    "import matplotlib.pyplot as plt\n",
    "import numpy as np\n",
    "import pandas as pd\n",
    "import seaborn as sns\n",
    "import porespy as ps\n",
    "import importlib as il\n",
    "import os\n",
    "\n",
    "from scipy.stats import wilcoxon, ks_2samp, f_oneway\n",
    "from skimage.io import imread # read in images\n",
    "from skimage.measure import regionprops, regionprops_table, shannon_entropy\n",
    "from skimage.metrics import hausdorff_distance\n",
    "from sklearn.metrics import roc_curve, auc, jaccard_score\n",
    "from sklearn.neighbors import KNeighborsClassifier\n",
    "from sklearn.decomposition import PCA\n",
    "from sklearn.mixture import GaussianMixture\n",
    "from sklearn.cluster import KMeans\n",
    "from collections import OrderedDict\n",
    "from importlib.metadata import version"
   ]
  },
  {
   "cell_type": "code",
   "execution_count": null,
   "id": "031ef843-2615-4f04-a442-5391930756da",
   "metadata": {},
   "outputs": [],
   "source": [
    "segment_kmeans_clust = il.import_module(\"segment.kmeans_clust\")\n",
    "segment_extract_pores = il.import_module(\"segment.extract_pores\")\n",
    "segment_process_segments = il.import_module(\"segment.process_segments\")\n",
    "segment_distance_thickness = il.import_module(\"segment.distance_thickness\")\n",
    "\n",
    "pores_pore_network = il.import_module(\"pores.pore_network\")\n",
    "pores_pore_regionprops = il.import_module(\"pores.pore_regionprops\")\n",
    "\n",
    "plots_plots_3d = il.reload(plots_plots_3d)\n",
    "plots_colormaps_lec = il.reload(plots_colormaps_lec)"
   ]
  },
  {
   "cell_type": "code",
   "execution_count": null,
   "id": "592b71a9-3d4d-4057-bbb3-f437522cfc94",
   "metadata": {},
   "outputs": [],
   "source": [
    "segment_kmeans_clust = il.reload(segment_kmeans_clust)\n",
    "segment_extract_pores = il.reload(segment_extract_pores)\n",
    "segment_process_segments = il.reload(segment_process_segments)\n",
    "segment_distance_thickness = il.reload(segment_distance_thickness)\n",
    "\n",
    "pores_pore_network = il.reload(pores_pore_network)\n",
    "pores_pore_regionprops = il.reload(pores_pore_regionprops)\n",
    "\n",
    "plots_plots_3d = il.reload(plots_plots_3d)\n",
    "plots_colormaps_lec = il.reload(plots_colormaps_lec)"
   ]
  },
  {
   "cell_type": "code",
   "execution_count": null,
   "id": "bd6ff218-88e9-4e1e-9515-46271ef77c69",
   "metadata": {},
   "outputs": [],
   "source": [
    "# NOTE: Need to implement False\n",
    "load_single = True # If False, will load all specified bread samples as a list"
   ]
  },
  {
   "cell_type": "code",
   "execution_count": null,
   "id": "b6866bcc-ab37-4159-b5e9-d8bf9d2b020a",
   "metadata": {},
   "outputs": [],
   "source": [
    "vx_size = 60.9e-6 # Voxel size in metres\n",
    "\n",
    "if load_single:\n",
    "    # start_indices = [150, 299, 180, 300]; start_indices2 = [1420, 1440, 1420, 1440]\n",
    "    # end_indices = [799, 853, 829, 899]; end_indices2 = [2069, 1994, 2069, 2039]\n",
    "    # bread_types = [\"Ro1a\", \"Ru1a\", \"V1a\", \"W1a\"]\n",
    "    \n",
    "    start_idx = 180\n",
    "    end_idx = 829\n",
    "    bread_type = 'V1a'\n",
    "    #save_slice_num = str(int(end_idx-start_idx+1))\n",
    "    # FIX: automatic slicenum detection\n",
    "    if bread_type == 'Ro1a':\n",
    "        save_slice_num = \"650\"\n",
    "    elif bread_type == 'Ru1a':\n",
    "        save_slice_num = \"555\"\n",
    "    elif bread_type == 'V1a':\n",
    "        save_slice_num = \"650\"\n",
    "    elif bread_type == 'W1a':\n",
    "        save_slice_num = \"600\"\n",
    "    else:\n",
    "        print('Check Bread Type')\n",
    "    output_path = '/cluster/scratch/spruthi/qbi2024_project/'+bread_type+'_save_'+save_slice_num\n",
    "    if os.path.exists(output_path):\n",
    "        print('Starting')\n",
    "    else:\n",
    "        print('Target path created, check '+output_path)\n",
    "        os.makedirs(output_path, exist_ok=True)\n",
    "        # FIX: Need to fix the path\n",
    "        print('You may want to manually specify save_slice_num')"
   ]
  },
  {
   "cell_type": "code",
   "execution_count": null,
   "id": "a1cb69e6-dc62-44d2-b21d-87d33980ee69",
   "metadata": {},
   "outputs": [],
   "source": [
    "if load_single:\n",
    "    # Load stored images\n",
    "\n",
    "    # Bread structure (pores = 0)\n",
    "    connthresh_medfilter3_ds_img_1 = read_images(os.path.join(output_path, (bread_type+'_connthresh_medfilter3_ds_img_1_{0:04}.tif')), start_idx, end_idx)\n",
    "    print(connthresh_medfilter3_ds_img_1.shape)\n",
    "\n",
    "    # Filled bread (solid structure)\n",
    "    filled_pores_1 = read_images(os.path.join(output_path, (bread_type+'_filled_pores_1_{0:04}.tif')), start_idx, end_idx)\n",
    "\n",
    "    # Pores segmented based on connected components labelling\n",
    "    merged_labelled_image_lbl = read_images(os.path.join(output_path, (bread_type+'_merged_labelled_image_lbl_{0:04}.tif')), start_idx, end_idx)\n",
    "\n",
    "    # Pores segmented based on watershed analysis\n",
    "    merged_labelled_image_ws = read_images(os.path.join(output_path, (bread_type+'_merged_labelled_image_ws_{0:04}.tif')), start_idx, end_idx)\n",
    "\n",
    "    # Local thicnkess map of pores generated using porespy\n",
    "    lt_ws = read_images(os.path.join(output_path, (bread_type+'_lt_ws_{0:04}.tif')), start_idx, end_idx)\n",
    "    \n",
    "    # Inverted image - extracted pores (if exists)\n",
    "    if os.path.exists(os.path.join(output_path, (bread_type+'_inverted_image_1_{start_idx}.tif'))):\n",
    "        inverted_image_1 = read_images(os.path.join(output_path, (bread_type+'_inverted_image_1_{0:04}.tif')), start_idx, end_idx)\n",
    "        print('Inverted image loaded')\n",
    "        \n",
    "    # Loading metrics (if needed)\n",
    "    #df_pair_pore = pd.read_pickle(os.path.join(output_path, (bread_type+'_df_pair_pore.pkl')))\n",
    "    #df_pair_pore2 = pd.read_pickle(os.path.join(output_path, (bread_type+'_df_pair_pore2.pkl')))"
   ]
  },
  {
   "cell_type": "code",
   "execution_count": null,
   "id": "3c5c6130-e96e-43e8-8474-a4f279df047c",
   "metadata": {},
   "outputs": [],
   "source": [
    "# Compare segmentations - Jaccard index, Dice, Hausdorff distance\n",
    "# Radial density distribution (and pore size distribution)\n",
    "# Pipeline at a glance\n",
    "# Montage pad - show\n",
    "# 3d plot of image volume\n",
    "# Network - porespy and custom"
   ]
  },
  {
   "cell_type": "code",
   "execution_count": null,
   "id": "f02b658b-4feb-4889-9f5b-21b25c2ae2e7",
   "metadata": {},
   "outputs": [],
   "source": [
    "# connthresh_medfilter3_ds_img_1\n",
    "# filled_pores_1\n",
    "# inverted_image_1\n",
    "# merged_labelled_image_lbl\n",
    "# merged_labelled_image_ws\n",
    "# lt_ws"
   ]
  }
 ],
 "metadata": {
  "kernelspec": {
   "display_name": "",
   "name": ""
  },
  "language_info": {
   "name": ""
  }
 },
 "nbformat": 4,
 "nbformat_minor": 5
}
